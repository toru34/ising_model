{
 "cells": [
  {
   "cell_type": "code",
   "execution_count": 4,
   "metadata": {},
   "outputs": [],
   "source": [
    "%matplotlib inline\n",
    "\n",
    "import numpy as np\n",
    "import matplotlib.pyplot as plt\n",
    "from IPython import display\n",
    "from tqdm import tqdm\n",
    "import seaborn as sns\n",
    "\n",
    "np.random.seed(34)\n",
    "\n",
    "N_ITERS = 100000\n",
    "H = 64\n",
    "W = 64\n",
    "J = 1\n",
    "PLOT_INTERVAL = 1000"
   ]
  },
  {
   "cell_type": "markdown",
   "metadata": {},
   "source": [
    "### Statistical values\n",
    "\n",
    "##### Hamiltonian\n",
    "$$\n",
    "    H = - J \\sum_{<ij>} s_i s_j - B \\sum_i s_i\n",
    "$$\n",
    "- $<ij>$: a pair of sites $(i, j)$ which are nearest neighbours (next to each other).\n",
    "\n",
    "##### Mean magnetization\n",
    "$$\n",
    "    \\langle M \\rangle = \\langle \\sum_i s_i \\rangle\n",
    "$$\n",
    "\n",
    "##### Mean magnetization per spin\n",
    "$$\n",
    "    \\langle m \\rangle = \\frac{1}{N} \\langle \\sum_i s_i \\rangle\n",
    "$$\n",
    "\n",
    "##### Magnetic susceptibility\n",
    "$$\n",
    "    \\frac{\\partial \\langle M \\rangle}{\\partial B} = \\beta \\left( \\langle M^2 \\rangle - \\langle M \\rangle^2 \\right)\n",
    "$$\n",
    "\n",
    "##### Magnetic susceptibility per spin\n",
    "$$\n",
    "    \\frac{\\beta}{N} \\left( \\langle M^2 \\rangle - \\langle M \\rangle^2 \\right) = \\beta N \\left( \\langle m^2 \\rangle - \\langle m \\rangle^2 \\right)\n",
    "$$\n",
    "\n",
    "##### Specific heat per spin\n",
    "$$\n",
    "    c = \\frac{k \\beta^2}{N} \\left( \\langle E^2 \\rangle - \\langle E \\rangle^2 \\right)\n",
    "$$"
   ]
  },
  {
   "cell_type": "code",
   "execution_count": 39,
   "metadata": {},
   "outputs": [
    {
     "data": {
      "text/plain": [
       "array([[ 1, -1, -1, ..., -1,  1, -1],\n",
       "       [-1, -1,  1, ...,  1,  1, -1],\n",
       "       [ 1, -1,  1, ...,  1,  1,  1],\n",
       "       ...,\n",
       "       [ 1,  1,  1, ...,  1, -1,  1],\n",
       "       [-1, -1,  1, ...,  1,  1,  1],\n",
       "       [-1, -1,  1, ...,  1, -1,  1]])"
      ]
     },
     "execution_count": 39,
     "metadata": {},
     "output_type": "execute_result"
    }
   ],
   "source": [
    "np.random.seed(34)\n",
    "\n",
    "sigma = np.random.choice((-1, 1), (H, W))\n",
    "sigma"
   ]
  },
  {
   "cell_type": "code",
   "execution_count": 40,
   "metadata": {},
   "outputs": [],
   "source": [
    "def compute_energy(sigma):\n",
    "    sigma_u = np.r_[sigma[1:, :], sigma[:1, :]]\n",
    "    sigma_d = np.r_[sigma[-1:, :], sigma[:-1, :]]\n",
    "    sigma_l = np.c_[sigma[:, 1:], sigma[:, :1]]\n",
    "    sigma_r = np.c_[sigma[:, -1:], sigma[:, :-1]]\n",
    "    return - J * np.sum(sigma * (sigma_u + sigma_d + sigma_l + sigma_r)) / 2"
   ]
  },
  {
   "cell_type": "code",
   "execution_count": 62,
   "metadata": {},
   "outputs": [],
   "source": [
    "def compute_magnetization(sigma):\n",
    "    return np.sum(sigma)"
   ]
  },
  {
   "cell_type": "markdown",
   "metadata": {},
   "source": [
    "### Metropolis Algorithm\n",
    "\n",
    "1. Set the temperature $T$ ($\\beta = \\frac{1}{T}$).\n",
    "2. Initialize the spin configuration $s$ at random.\n",
    "3. Iterate the following operations until convergence.\n",
    "    1. Pick a single spin $k$ randomly.\n",
    "    2. Consider the new state $\\nu$ after spin $k$ is flipped, and compute the energy difference between the current state $\\mu$ and the new state $\\nu$.\n",
    "        $$\\Delta E = E_{\\mu} - E_{\\nu} = 2 J s_k^{\\mu} \\sum_{i \\hspace{1mm} \\text{n.n. to} \\hspace{1mm} k} s_i^{\\mu}$$\n",
    "        - n.n.: nearest neighbours\n",
    "    3. Flip the spin $k$ under the following condition.\n",
    "    $$\n",
    "        A(\\mu \\rightarrow \\nu) =\n",
    "        \\begin{cases}\n",
    "            e^{- \\beta \\left(E_{\\nu} - E_{\\mu}\\right)} \\hspace{4mm} \\text{if} \\, E_{\\nu} - E_{\\mu} > 0 \\\\\n",
    "            1 \\hspace{20mm} \\text{otherwise}\n",
    "        \\end{cases}\n",
    "    $$\n",
    "\n",
    "Reference: M. E. J. Newman & G. T. Barkema, \"Monte Carlo Methods in Statistical Physics\", Oxford University Press, 1999"
   ]
  },
  {
   "cell_type": "code",
   "execution_count": 64,
   "metadata": {},
   "outputs": [
    {
     "data": {
      "image/png": "[encoded data removed]",
      "text/plain": [
       "<Figure size 288x288 with 1 Axes>"
      ]
     },
     "metadata": {},
     "output_type": "display_data"
    }
   ],
   "source": [
    "np.random.seed(34)\n",
    "\n",
    "t = 1.0\n",
    "beta = 1/t\n",
    "\n",
    "# Initial state\n",
    "sigma = np.random.choice((-1, 1), (H, W))\n",
    "energy = compute_energy(sigma)\n",
    "\n",
    "# Plot (heat map)\n",
    "img = plt.matshow(sigma, cmap='bwr')\n",
    "display.display(plt.gcf())\n",
    "display.clear_output(wait=True)\n",
    "\n",
    "def compute_energy_diff(sigma, h, w):\n",
    "    return 2 * J * sigma[h, w] * (sigma[(h-1)%H, w] + sigma[(h+1)%H, w] + sigma[h, (w-1)%W] + sigma[h, (w+1)%W])\n",
    "\n",
    "# Iteration\n",
    "for itr in range(N_ITERS):\n",
    "    try:\n",
    "        h = np.random.randint(0, H)\n",
    "        w = np.random.randint(0, W)\n",
    "        \n",
    "        # Compute the energy differnce between the current state and the next state\n",
    "        energy_diff = compute_energy_diff(sigma, h, w)\n",
    "        \n",
    "        # Flip spin\n",
    "        if energy_diff <= 0:\n",
    "            sigma[h, w] *= -1\n",
    "        elif np.random.rand() < np.exp(- beta * energy_diff):\n",
    "            sigma[h, w] *= -1\n",
    "        \n",
    "        # Compute statistical values\n",
    "        energy = compute_energy(sigma)\n",
    "        \n",
    "        # Plot\n",
    "        if (itr + 1) % PLOT_INTERVAL == 0:\n",
    "            img.set_data(sigma)\n",
    "            plt.title('Iteration: {}, Energy: {:.3f}'.format(itr + 1, energy))\n",
    "            display.display(plt.gcf())\n",
    "            display.clear_output(wait=True)\n",
    "    except KeyboardInterrupt:\n",
    "        break"
   ]
  },
  {
   "cell_type": "code",
   "execution_count": null,
   "metadata": {},
   "outputs": [],
   "source": []
  }
 ],
 "metadata": {
  "kernelspec": {
   "display_name": "Python 3",
   "language": "python",
   "name": "python3"
  },
  "language_info": {
   "codemirror_mode": {
    "name": "ipython",
    "version": 3
   },
   "file_extension": ".py",
   "mimetype": "text/x-python",
   "name": "python",
   "nbconvert_exporter": "python",
   "pygments_lexer": "ipython3",
   "version": "3.6.6"
  }
 },
 "nbformat": 4,
 "nbformat_minor": 2
}
